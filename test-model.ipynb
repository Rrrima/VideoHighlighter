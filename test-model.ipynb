{
 "cells": [
  {
   "cell_type": "code",
   "execution_count": 2,
   "metadata": {},
   "outputs": [],
   "source": [
    "%load_ext autoreload\n",
    "%autoreload\n",
    "import os\n",
    "import random\n",
    "from Video import Video\n",
    "import pandas as pd \n",
    "from utils import *\n",
    "from Model import SuperFrameModel,FrameModel"
   ]
  },
  {
   "cell_type": "code",
   "execution_count": 9,
   "metadata": {},
   "outputs": [
    {
     "data": {
      "text/plain": [
       "['Eiffel_Tower',\n",
       " 'Bus_in_Rock_Tunnel',\n",
       " 'car_over_camera',\n",
       " 'Kids_playing_in_leaves',\n",
       " 'Base_jumping',\n",
       " 'Saving_dolphines',\n",
       " 'Jumps',\n",
       " 'Statue_of_Liberty',\n",
       " 'Excavators_river_crossing',\n",
       " 'Uncut_Evening_Flight',\n",
       " 'St_Maarten_Landing',\n",
       " 'Cooking',\n",
       " 'Scuba',\n",
       " 'Bike_Polo',\n",
       " 'Paintball',\n",
       " 'Car_railcrossing',\n",
       " 'Fire_Domino',\n",
       " 'Playing_on_water_slide',\n",
       " 'Bearpark_climbing',\n",
       " 'playing_ball',\n",
       " 'Valparaiso_Downhill',\n",
       " 'Air_Force_One',\n",
       " 'Notre_Dame',\n",
       " 'paluma_jump',\n",
       " 'Cockpit_Landing']"
      ]
     },
     "execution_count": 9,
     "metadata": {},
     "output_type": "execute_result"
    }
   ],
   "source": [
    "allvid = all_vid()"
   ]
  },
  {
   "cell_type": "code",
   "execution_count": 12,
   "metadata": {},
   "outputs": [
    {
     "data": {
      "text/plain": [
       "['St_Maarten_Landing',\n",
       " 'Eiffel_Tower',\n",
       " 'Saving_dolphines',\n",
       " 'St_Maarten_Landing',\n",
       " 'Scuba',\n",
       " 'Saving_dolphines',\n",
       " 'Saving_dolphines',\n",
       " 'Saving_dolphines',\n",
       " 'Cooking',\n",
       " 'Statue_of_Liberty']"
      ]
     },
     "execution_count": 12,
     "metadata": {},
     "output_type": "execute_result"
    }
   ],
   "source": [
    "test_vid = random.choices(allvid,k=10)"
   ]
  },
  {
   "cell_type": "code",
   "execution_count": 14,
   "metadata": {},
   "outputs": [
    {
     "name": "stdout",
     "output_type": "stream",
     "text": [
      "====================  get superframe score for St_Maarten_Landing ====================\n",
      "====================  get superframe score for Eiffel_Tower ====================\n",
      "====================  get superframe score for Saving_dolphines ====================\n",
      "====================  get superframe score for St_Maarten_Landing ====================\n",
      "====================  get superframe score for Scuba ====================\n",
      "====================  get superframe score for Saving_dolphines ====================\n",
      "====================  get superframe score for Saving_dolphines ====================\n",
      "====================  get superframe score for Saving_dolphines ====================\n",
      "====================  get superframe score for Cooking ====================\n",
      "====================  get superframe score for Statue_of_Liberty ====================\n"
     ]
    }
   ],
   "source": [
    "from sklearn.metrics import mean_absolute_error\n",
    "model_super = SuperFrameModel('rf')\n",
    "model_super.fit_model()\n",
    "mae_list = []\n",
    "for vname in test_vid:\n",
    "    label,pred = model_super.predict(vname)\n",
    "    mae_list.append(mean_absolute_error(label,pred))"
   ]
  },
  {
   "cell_type": "code",
   "execution_count": 15,
   "metadata": {},
   "outputs": [
    {
     "data": {
      "text/plain": [
       "[0.02487224282426131,\n",
       " 0.03710346432894419,\n",
       " 0.03798210756251279,\n",
       " 0.02487224282426131,\n",
       " 0.02944728972685574,\n",
       " 0.03798210756251279,\n",
       " 0.03798210756251279,\n",
       " 0.03798210756251279,\n",
       " 0.05076911977019176,\n",
       " 0.028142070026970122]"
      ]
     },
     "execution_count": 15,
     "metadata": {},
     "output_type": "execute_result"
    }
   ],
   "source": [
    "mae_list"
   ]
  },
  {
   "cell_type": "code",
   "execution_count": 16,
   "metadata": {},
   "outputs": [
    {
     "name": "stdout",
     "output_type": "stream",
     "text": [
      "====================  get superframe score for St_Maarten_Landing ====================\n",
      "====================  get superframe score for Eiffel_Tower ====================\n",
      "====================  get superframe score for Saving_dolphines ====================\n",
      "====================  get superframe score for St_Maarten_Landing ====================\n",
      "====================  get superframe score for Scuba ====================\n",
      "====================  get superframe score for Saving_dolphines ====================\n",
      "====================  get superframe score for Saving_dolphines ====================\n",
      "====================  get superframe score for Saving_dolphines ====================\n",
      "====================  get superframe score for Cooking ====================\n",
      "====================  get superframe score for Statue_of_Liberty ====================\n"
     ]
    }
   ],
   "source": [
    "model_super = SuperFrameModel('mlp')\n",
    "model_super.fit_model()\n",
    "mae_list2 = []\n",
    "for vname in test_vid:\n",
    "    label,pred = model_super.predict(vname)\n",
    "    mae_list2.append(mean_absolute_error(label,pred))"
   ]
  },
  {
   "cell_type": "code",
   "execution_count": 17,
   "metadata": {},
   "outputs": [
    {
     "data": {
      "text/plain": [
       "[0.06833253740254824,\n",
       " 0.0790441211519734,\n",
       " 0.06614979372862397,\n",
       " 0.06833253740254824,\n",
       " 0.06581483293720622,\n",
       " 0.06614979372862397,\n",
       " 0.06614979372862397,\n",
       " 0.06614979372862397,\n",
       " 0.0887552965977548,\n",
       " 0.055958626162951774]"
      ]
     },
     "execution_count": 17,
     "metadata": {},
     "output_type": "execute_result"
    }
   ],
   "source": [
    "mae_list2"
   ]
  },
  {
   "cell_type": "code",
   "execution_count": 18,
   "metadata": {},
   "outputs": [
    {
     "name": "stdout",
     "output_type": "stream",
     "text": [
      "====================  get superframe score for St_Maarten_Landing ====================\n",
      "====================  get superframe score for Eiffel_Tower ====================\n",
      "====================  get superframe score for Saving_dolphines ====================\n",
      "====================  get superframe score for St_Maarten_Landing ====================\n",
      "====================  get superframe score for Scuba ====================\n",
      "====================  get superframe score for Saving_dolphines ====================\n",
      "====================  get superframe score for Saving_dolphines ====================\n",
      "====================  get superframe score for Saving_dolphines ====================\n",
      "====================  get superframe score for Cooking ====================\n",
      "====================  get superframe score for Statue_of_Liberty ====================\n"
     ]
    }
   ],
   "source": [
    "model_super = SuperFrameModel('svr')\n",
    "model_super.fit_model()\n",
    "mae_list3 = []\n",
    "for vname in test_vid:\n",
    "    label,pred = model_super.predict(vname)\n",
    "    mae_list3.append(mean_absolute_error(label,pred))"
   ]
  },
  {
   "cell_type": "code",
   "execution_count": 19,
   "metadata": {},
   "outputs": [
    {
     "data": {
      "text/plain": [
       "[0.08919080902725358,\n",
       " 0.0831331948306476,\n",
       " 0.08235605376108646,\n",
       " 0.08919080902725358,\n",
       " 0.066538178143944,\n",
       " 0.08235605376108646,\n",
       " 0.08235605376108646,\n",
       " 0.08235605376108646,\n",
       " 0.1358497279753985,\n",
       " 0.04788768071403846]"
      ]
     },
     "execution_count": 19,
     "metadata": {},
     "output_type": "execute_result"
    }
   ],
   "source": [
    "mae_list3"
   ]
  },
  {
   "cell_type": "code",
   "execution_count": 20,
   "metadata": {},
   "outputs": [
    {
     "name": "stdout",
     "output_type": "stream",
     "text": [
      "====================  result for Eiffel_Tower ====================\n",
      "loading frames ...\n",
      "loading salient maps ...\n",
      "get ground truth score ...\n",
      "split super frames ...\n",
      "(38, 10.503021914648212)\n",
      "(70, 2.613948481353326)\n",
      "(107, 2.976562860438293)\n",
      "(139, 9.349250288350635)\n",
      "(171, 3.614717416378316)\n",
      "(211, 9.182083813917723)\n",
      "(243, 0.25593233371780083)\n",
      "(283, 6.558169934640524)\n",
      "(340, 2.5764398308342944)\n",
      "(382, 6.502499038831219)\n",
      "(441, 10.232648981161091)\n"
     ]
    }
   ],
   "source": [
    "model_frame = FrameModel('rf')\n",
    "# model_frame.eval_model()\n",
    "label,pred = model_frame.predict(0)"
   ]
  },
  {
   "cell_type": "code",
   "execution_count": null,
   "metadata": {},
   "outputs": [],
   "source": [
    "label,pred = model_frame.predict(0)"
   ]
  },
  {
   "cell_type": "code",
   "execution_count": 7,
   "metadata": {},
   "outputs": [
    {
     "name": "stdout",
     "output_type": "stream",
     "text": [
      "loading frames ...\n",
      "loading salient maps ...\n",
      "get ground truth score ...\n",
      "split super frames ...\n",
      "(14, 1.1157708573625527)\n",
      "(24, 1.5262745098039219)\n",
      "(33, 0.00018454440599769317)\n",
      "(73, 6.295717031910804)\n",
      "(85, 4.0559784698193)\n",
      "(100, 0.3512187620146097)\n",
      "(109, 4.650672818146867)\n"
     ]
    }
   ],
   "source": [
    "vid = Video('Cooking')"
   ]
  },
  {
   "cell_type": "code",
   "execution_count": 8,
   "metadata": {},
   "outputs": [
    {
     "data": {
      "image/png": "[encoded data removed]",
      "text/plain": [
       "<Figure size 1440x144 with 1 Axes>"
      ]
     },
     "metadata": {
      "needs_background": "light"
     },
     "output_type": "display_data"
    }
   ],
   "source": [
    "plt.figure(figsize=(20,2))\n",
    "plt.plot(range(vid.N),vid.gt)\n",
    "# plt.plot(range(vid.N),pred)\n",
    "for c in vid.cutlist:\n",
    "    plt.axvline(x = c, color = 'r',alpha=0.5) \n",
    "plt.show()"
   ]
  },
  {
   "cell_type": "code",
   "execution_count": 32,
   "metadata": {},
   "outputs": [],
   "source": []
  },
  {
   "cell_type": "code",
   "execution_count": 33,
   "metadata": {},
   "outputs": [
    {
     "data": {
      "text/plain": [
       "array([ 13,  69, 125, 201, 255, 318, 410, 488])"
      ]
     },
     "execution_count": 33,
     "metadata": {},
     "output_type": "execute_result"
    }
   ],
   "source": []
  },
  {
   "cell_type": "code",
   "execution_count": null,
   "metadata": {},
   "outputs": [],
   "source": []
  }
 ],
 "metadata": {
  "kernelspec": {
   "display_name": "Python 3",
   "language": "python",
   "name": "python3"
  },
  "language_info": {
   "codemirror_mode": {
    "name": "ipython",
    "version": 3
   },
   "file_extension": ".py",
   "mimetype": "text/x-python",
   "name": "python",
   "nbconvert_exporter": "python",
   "pygments_lexer": "ipython3",
   "version": "3.8.3"
  }
 },
 "nbformat": 4,
 "nbformat_minor": 4
}
